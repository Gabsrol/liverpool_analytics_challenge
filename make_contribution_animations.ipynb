{
 "cells": [
  {
   "cell_type": "markdown",
   "metadata": {},
   "source": [
    "# Make animations\n",
    "This notebook details how videos for my contribution are made. I use the package moviepy."
   ]
  },
  {
   "cell_type": "code",
   "execution_count": 1,
   "metadata": {},
   "outputs": [],
   "source": [
    "from moviepy import editor as mpy\n",
    "from moviepy.video.io.bindings import mplfig_to_npimage"
   ]
  },
  {
   "cell_type": "markdown",
   "metadata": {},
   "source": [
    "## Import data"
   ]
  },
  {
   "cell_type": "code",
   "execution_count": 2,
   "metadata": {},
   "outputs": [],
   "source": [
    "import pandas as pd\n",
    "import pickle\n",
    "import numpy as np\n",
    "import matplotlib.pyplot as plt"
   ]
  },
  {
   "cell_type": "markdown",
   "metadata": {},
   "source": [
    "Let's import module created to work with Metrica tracking data. These modules are mainly inspired by Laurie Shaw's tutorials."
   ]
  },
  {
   "cell_type": "code",
   "execution_count": 3,
   "metadata": {},
   "outputs": [],
   "source": [
    "from scripts import Metrica_Viz as mviz\n",
    "from scripts import Metrica_Velocities as mvel"
   ]
  },
  {
   "cell_type": "markdown",
   "metadata": {},
   "source": [
    "Import Last Row dataset to have plays list"
   ]
  },
  {
   "cell_type": "code",
   "execution_count": 4,
   "metadata": {},
   "outputs": [],
   "source": [
    "LR_data = pd.read_csv('data_inputs/liverpool_analytics_2019.csv')"
   ]
  },
  {
   "cell_type": "markdown",
   "metadata": {},
   "source": [
    "For each play, import :\n",
    "* tracking home --> tracking data for home players (by default liverpool players)\n",
    "* tracking away --> tracking data for away players\n",
    "* players_num --> dataframe that associates playersId with their nums\n",
    "* events --> events data\n",
    "* off_ball_scoring --> an array of list. Length = nb frames. Each list corresponds to a frame and contains :\n",
    "    * first item : pitch control surface\n",
    "    * second item : off ball scoring opportunity surface\n",
    "    * third item : a dictionnary. Each key is a player and contains pitch control surface for this player\n",
    "    \n",
    "Tracking home, away, players_num and events are generated when converting the data.\n",
    "off_ball_scoring is generated with the script liverpool_analytics_calculate_off_ball_scoring.py\n",
    "\n",
    "Let's construct a dictionnary plays data containing for each play the data mentionned above."
   ]
  },
  {
   "cell_type": "code",
   "execution_count": 5,
   "metadata": {},
   "outputs": [],
   "source": [
    "#plays list\n",
    "plays = LR_data.play.unique()\n",
    "\n",
    "#initialize dictionnary\n",
    "plays_data = {}\n",
    "for play in plays:\n",
    "    tracking_home = pd.read_csv('data_inputs/'+play.replace(' ','_')+'/tracking_home.csv')\n",
    "    tracking_away = pd.read_csv('data_inputs/'+play.replace(' ','_')+'/tracking_away.csv')\n",
    "    players_num = pd.read_csv('data_inputs/'+play.replace(' ','_')+'/players_num.csv')\n",
    "    events = pd.read_csv('data_inputs/'+play.replace(' ','_')+'/events.csv')\n",
    "    try :\n",
    "        off_ball_scoring = pickle.load(open('data_inputs/'+play.replace(' ','_')+'/off_ball_scoring', 'rb'))\n",
    "    except:\n",
    "        plays_data[play] = {'tracking_home':tracking_home}\n",
    "        plays_data[play]['tracking_away'] = tracking_away\n",
    "        plays_data[play]['players_num'] = players_num\n",
    "        plays_data[play]['events'] = events\n",
    "    else:\n",
    "        plays_data[play] = {'tracking_home':tracking_home}\n",
    "        plays_data[play]['tracking_away'] = tracking_away\n",
    "        plays_data[play]['players_num'] = players_num\n",
    "        plays_data[play]['events'] = events\n",
    "        plays_data[play]['off_ball_scoring'] = off_ball_scoring"
   ]
  },
  {
   "cell_type": "markdown",
   "metadata": {},
   "source": [
    "## Liverpool [2] - 1 Newcastle pitch control video"
   ]
  },
  {
   "cell_type": "code",
   "execution_count": 6,
   "metadata": {},
   "outputs": [],
   "source": [
    "play = 'Liverpool [2] - 1 Newcastle'\n",
    "tracking_home = plays_data[play]['tracking_home']\n",
    "tracking_away = plays_data[play]['tracking_away']\n",
    "tracking_home = mvel.calc_player_velocities(tracking_home,smoothing=True,filter_='moving_average')\n",
    "tracking_away = mvel.calc_player_velocities(tracking_away,smoothing=True,filter_='moving_average')\n",
    "off_ball = plays_data[play]['off_ball_scoring']\n",
    "players_num = plays_data[play]['players_num']\n",
    "players_to_annotate = players_num.dropna()"
   ]
  },
  {
   "cell_type": "code",
   "execution_count": 7,
   "metadata": {},
   "outputs": [],
   "source": [
    "def plot_pitch_control_for_frame(frame,off_ball,figax,n_grid_cells_x = 50, field_dimen = (106.0,68.0)):\n",
    "    \n",
    "    pitch_control = off_ball[int(frame/2)][0]\n",
    "    fig,ax=figax\n",
    "    \n",
    "    n_grid_cells_y = int(n_grid_cells_x*field_dimen[1]/field_dimen[0])\n",
    "    xgrid = np.linspace( -field_dimen[0]/2., field_dimen[0]/2., n_grid_cells_x)\n",
    "    ygrid = np.linspace( -field_dimen[1]/2., field_dimen[1]/2., n_grid_cells_y)\n",
    "    \n",
    "    cmap = 'bwr'\n",
    "    im=ax.imshow(np.flipud(pitch_control), extent=(np.amin(xgrid), np.amax(xgrid), np.amin(ygrid), np.amax(ygrid)),interpolation='hanning',vmin=0.0,vmax=1.0,cmap=cmap,alpha=0.5)\n",
    "    fig.colorbar(im)\n",
    "    ax.text(0,34+0.25,'Liverpool pitch control: '+str(round(np.sum(pitch_control)/32/50*100,2))+'%',fontsize=12)\n",
    "    \n",
    "    return(fig,ax)"
   ]
  },
  {
   "cell_type": "code",
   "execution_count": 8,
   "metadata": {},
   "outputs": [],
   "source": [
    "def draw_frame_x(hometeam,awayteam, off_ball, t, players_to_annotate, figax=None, fps=25, \n",
    "                 team_colors=('r','b'), field_dimen = (106.0,68.0), \n",
    "                 include_player_velocities=True, PlayerMarkerSize=10, PlayerAlpha=0.7,dpi=100):\n",
    "    \n",
    "    #we have to convert t*fps to int because t is a float\n",
    "    fig,ax=mviz.plot_pitch(field_color='white')\n",
    "    fig,ax=mviz.plot_frame(hometeam.iloc[int(t*fps)], awayteam.iloc[int(t*fps)], figax=(fig,ax), \n",
    "                           team_colors=team_colors, field_dimen = field_dimen, \n",
    "                           include_player_velocities=include_player_velocities, PlayerMarkerSize=PlayerMarkerSize, PlayerAlpha=PlayerAlpha)\n",
    "    \n",
    "    fig,ax=plot_pitch_control_for_frame(int(t*fps),off_ball,(fig,ax))\n",
    "    \n",
    "    players_id=players_to_annotate.iloc[:,0].values\n",
    "    nums=players_to_annotate.iloc[:,1].values\n",
    "    for k in range(len(nums)):\n",
    "        ax.text(hometeam.iloc[int(t*fps)]['Home_'+str(players_id[k])+'_x']+0.5,hometeam.iloc[int(t*fps)]['Home_'+str(players_id[k])+'_y']+0.5,str(int(nums[k])),fontsize=10,color='r')\n",
    "    \n",
    "    image = mplfig_to_npimage(fig)\n",
    "    plt.close()\n",
    "    return image"
   ]
  },
  {
   "cell_type": "code",
   "execution_count": 9,
   "metadata": {},
   "outputs": [],
   "source": [
    "def make_animation(hometeam,awayteam,off_ball, fpath, players_to_annotate, fname='clip_test', figax=None, fps=25, \n",
    "                   team_colors=('r','b'), field_dimen = (106.0,68.0), \n",
    "                   include_player_velocities=True, PlayerMarkerSize=10, PlayerAlpha=0.7,dpi=100):\n",
    "    \n",
    "    length=len(hometeam)/fps\n",
    "\n",
    "    clip = mpy.VideoClip(\n",
    "        lambda x: draw_frame_x(hometeam, awayteam, off_ball, x, players_to_annotate, figax=figax, team_colors=team_colors, field_dimen = field_dimen, include_player_velocities=include_player_velocities, PlayerMarkerSize=PlayerMarkerSize, PlayerAlpha=PlayerAlpha),\n",
    "        duration=length).set_fps(fps)\n",
    "\n",
    "    clip.write_videofile(fpath+fname+'.mp4')"
   ]
  },
  {
   "cell_type": "code",
   "execution_count": 10,
   "metadata": {},
   "outputs": [
    {
     "name": "stderr",
     "output_type": "stream",
     "text": [
      "\r",
      "t:   0%|          | 0/149 [00:00<?, ?it/s, now=None]"
     ]
    },
    {
     "name": "stdout",
     "output_type": "stream",
     "text": [
      "Moviepy - Building video data_outputs/Liverpool_[2]_-_1_Newcastle.mp4.\n",
      "Moviepy - Writing video data_outputs/Liverpool_[2]_-_1_Newcastle.mp4\n",
      "\n"
     ]
    },
    {
     "name": "stderr",
     "output_type": "stream",
     "text": [
      "                                                              \r"
     ]
    },
    {
     "name": "stdout",
     "output_type": "stream",
     "text": [
      "Moviepy - Done !\n",
      "Moviepy - video ready data_outputs/Liverpool_[2]_-_1_Newcastle.mp4\n"
     ]
    }
   ],
   "source": [
    "make_animation(tracking_home,tracking_away,off_ball, 'data_outputs/', players_to_annotate, fname='Liverpool_[2]_-_1_Newcastle')"
   ]
  },
  {
   "cell_type": "markdown",
   "metadata": {},
   "source": [
    "## Liverpool [2] - 0 Porto pitch control video"
   ]
  },
  {
   "cell_type": "code",
   "execution_count": 11,
   "metadata": {},
   "outputs": [],
   "source": [
    "play = 'Liverpool [2] - 0 Porto'\n",
    "tracking_home = plays_data[play]['tracking_home']\n",
    "tracking_away = plays_data[play]['tracking_away']\n",
    "tracking_home = mvel.calc_player_velocities(tracking_home,smoothing=True,filter_='moving_average')\n",
    "tracking_away = mvel.calc_player_velocities(tracking_away,smoothing=True,filter_='moving_average')\n",
    "off_ball = plays_data[play]['off_ball_scoring']\n",
    "players_num = plays_data[play]['players_num']\n",
    "players_to_annotate = players_num.dropna()"
   ]
  },
  {
   "cell_type": "code",
   "execution_count": 12,
   "metadata": {},
   "outputs": [
    {
     "name": "stderr",
     "output_type": "stream",
     "text": [
      "\r",
      "t:   0%|          | 0/195 [00:00<?, ?it/s, now=None]"
     ]
    },
    {
     "name": "stdout",
     "output_type": "stream",
     "text": [
      "Moviepy - Building video data_outputs/Liverpool [2] - 0 Porto.mp4.\n",
      "Moviepy - Writing video data_outputs/Liverpool [2] - 0 Porto.mp4\n",
      "\n"
     ]
    },
    {
     "name": "stderr",
     "output_type": "stream",
     "text": [
      "                                                              \r"
     ]
    },
    {
     "name": "stdout",
     "output_type": "stream",
     "text": [
      "Moviepy - Done !\n",
      "Moviepy - video ready data_outputs/Liverpool [2] - 0 Porto.mp4\n"
     ]
    }
   ],
   "source": [
    "make_animation(tracking_home,tracking_away,off_ball, 'data_outputs/', players_to_annotate, fname='Liverpool [2] - 0 Porto')"
   ]
  },
  {
   "cell_type": "code",
   "execution_count": null,
   "metadata": {},
   "outputs": [],
   "source": []
  },
  {
   "cell_type": "code",
   "execution_count": null,
   "metadata": {},
   "outputs": [],
   "source": []
  }
 ],
 "metadata": {
  "kernelspec": {
   "display_name": "liverpool_analytics_kernel",
   "language": "python",
   "name": "liverpool_analytics_kernel"
  },
  "language_info": {
   "codemirror_mode": {
    "name": "ipython",
    "version": 3
   },
   "file_extension": ".py",
   "mimetype": "text/x-python",
   "name": "python",
   "nbconvert_exporter": "python",
   "pygments_lexer": "ipython3",
   "version": "3.8.2"
  }
 },
 "nbformat": 4,
 "nbformat_minor": 2
}
